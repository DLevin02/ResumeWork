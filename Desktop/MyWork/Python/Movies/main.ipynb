{
 "cells": [
  {
   "cell_type": "code",
   "execution_count": 1,
   "id": "c252190f",
   "metadata": {},
   "outputs": [],
   "source": [
    "# project: p8\n",
    "# submitter: dslevin2\n",
    "# partner: bundt\n",
    "# hours: 6"
   ]
  },
  {
   "cell_type": "code",
   "execution_count": 2,
   "id": "7df684d1",
   "metadata": {},
   "outputs": [],
   "source": [
    "import csv\n",
    "import copy\n",
    "\n",
    "# Modified from https://automatetheboringstuff.com/chapter14/\n",
    "def process_csv(filename):\n",
    "    example_file = open(filename, encoding=\"utf-8\")\n",
    "    example_reader = csv.reader(example_file)\n",
    "    example_data = list(example_reader)\n",
    "    example_file.close()\n",
    "    return example_data"
   ]
  },
  {
   "cell_type": "code",
   "execution_count": 3,
   "id": "e38acb4b",
   "metadata": {},
   "outputs": [],
   "source": [
    "def get_mapping(path):\n",
    "    csv_data = process_csv(path)\n",
    "    dict1 = {}\n",
    "    for line in csv_data:\n",
    "        dict1.update({line[0]:line[1]})\n",
    "    return dict1"
   ]
  },
  {
   "cell_type": "code",
   "execution_count": 4,
   "id": "1f780843",
   "metadata": {},
   "outputs": [
    {
     "data": {
      "text/plain": [
       "{'tt1950186': 'Ford v Ferrari',\n",
       " 'tt2267998': 'Gone Girl',\n",
       " 'nm0000255': 'Ben Affleck',\n",
       " 'nm0003506': 'James Mangold',\n",
       " 'nm0000354': 'Matt Damon',\n",
       " 'nm1256532': 'Jon Bernthal',\n",
       " 'nm0683253': 'Rosamund Pike',\n",
       " 'nm0000288': 'Christian Bale',\n",
       " 'nm0000399': 'David Fincher'}"
      ]
     },
     "execution_count": 4,
     "metadata": {},
     "output_type": "execute_result"
    }
   ],
   "source": [
    "#Q1:\n",
    "map1 = get_mapping(\"small_mapping.csv\")\n",
    "map1"
   ]
  },
  {
   "cell_type": "code",
   "execution_count": 5,
   "id": "3d1be92a",
   "metadata": {},
   "outputs": [
    {
     "data": {
      "text/plain": [
       "'Christian Bale'"
      ]
     },
     "execution_count": 5,
     "metadata": {},
     "output_type": "execute_result"
    }
   ],
   "source": [
    "#Q2:\n",
    "map1.get(\"nm0000288\")"
   ]
  },
  {
   "cell_type": "code",
   "execution_count": 6,
   "id": "3cfa26df",
   "metadata": {},
   "outputs": [
    {
     "data": {
      "text/plain": [
       "['Ben Affleck',\n",
       " 'James Mangold',\n",
       " 'Matt Damon',\n",
       " 'Jon Bernthal',\n",
       " 'Rosamund Pike',\n",
       " 'Christian Bale',\n",
       " 'David Fincher']"
      ]
     },
     "execution_count": 6,
     "metadata": {},
     "output_type": "execute_result"
    }
   ],
   "source": [
    "#Q3:\n",
    "def find_nm():\n",
    "    results = []\n",
    "    for i in map1.keys():\n",
    "        if i.startswith('nm'):\n",
    "            results.append(map1.get(i))\n",
    "    return results\n",
    "find_nm()\n"
   ]
  },
  {
   "cell_type": "code",
   "execution_count": 7,
   "id": "bc50f48d",
   "metadata": {},
   "outputs": [
    {
     "data": {
      "text/plain": [
       "['nm0683253']"
      ]
     },
     "execution_count": 7,
     "metadata": {},
     "output_type": "execute_result"
    }
   ],
   "source": [
    "#Q4:\n",
    "def find_end():\n",
    "    results = []\n",
    "    for i,x in map1.items():\n",
    "        if x.endswith(' Pike'):\n",
    "            results.append(i)\n",
    "    return results\n",
    "find_end()"
   ]
  },
  {
   "cell_type": "code",
   "execution_count": 8,
   "id": "325758bd",
   "metadata": {},
   "outputs": [],
   "source": [
    "def get_raw_movies(path):\n",
    "    csv_data = process_csv(path)\n",
    "    data = csv_data[0]\n",
    "    results = []\n",
    "    loop = csv_data[1:]\n",
    "    for i in loop:\n",
    "        \n",
    "        dict = {}\n",
    "        \n",
    "        for key in data:\n",
    "            \n",
    "            value = i[data.index(key)]\n",
    "            if key == 'duration':   \n",
    "                dict.update({key:int(value)})\n",
    "            \n",
    "            if key == 'title':\n",
    "                \n",
    "                dict.update({key:value})\n",
    "            if key == 'rating':\n",
    "                \n",
    "                dict.update({key:float(value)})               \n",
    "            if key == 'year':   \n",
    "                \n",
    "                dict.update({key:int(value)})\n",
    "                \n",
    "                \n",
    "            if key == 'directors' or key == 'actors' or key =='genres':\n",
    "                value = value.split(', ')\n",
    "                \n",
    "                dict.update({key:value})\n",
    "                \n",
    "        results.append(dict)\n",
    "        \n",
    "    return results "
   ]
  },
  {
   "cell_type": "code",
   "execution_count": 9,
   "id": "e748ace2",
   "metadata": {},
   "outputs": [
    {
     "data": {
      "text/plain": [
       "[{'title': 'tt1950186',\n",
       "  'year': 2019,\n",
       "  'genres': ['Action', 'Biography', 'Drama'],\n",
       "  'duration': 152,\n",
       "  'directors': ['nm0003506'],\n",
       "  'actors': ['nm0000354', 'nm0000288', 'nm1256532'],\n",
       "  'rating': 8.1},\n",
       " {'title': 'tt2267998',\n",
       "  'year': 2014,\n",
       "  'genres': ['Drama', 'Mystery', 'Thriller'],\n",
       "  'duration': 149,\n",
       "  'directors': ['nm0000399'],\n",
       "  'actors': ['nm0000255', 'nm0683253'],\n",
       "  'rating': 8.1}]"
      ]
     },
     "execution_count": 9,
     "metadata": {},
     "output_type": "execute_result"
    }
   ],
   "source": [
    "#Q5:\n",
    "small = get_raw_movies('small_movies.csv')\n",
    "small"
   ]
  },
  {
   "cell_type": "code",
   "execution_count": 30,
   "id": "cfce299d",
   "metadata": {},
   "outputs": [
    {
     "data": {
      "text/plain": [
       "2"
      ]
     },
     "execution_count": 30,
     "metadata": {},
     "output_type": "execute_result"
    }
   ],
   "source": [
    "#Q6:\n",
    "def get_actors():\n",
    "    count = 0\n",
    "    for i in small[1].get('actors'):\n",
    "        count += 1\n",
    "    return count\n",
    "get_actors()"
   ]
  },
  {
   "cell_type": "code",
   "execution_count": 32,
   "id": "bb3dbfa2",
   "metadata": {},
   "outputs": [
    {
     "data": {
      "text/plain": [
       "'nm0000354'"
      ]
     },
     "execution_count": 32,
     "metadata": {},
     "output_type": "execute_result"
    }
   ],
   "source": [
    "#Q7:\n",
    "def get_actor():\n",
    "    x = small[0]\n",
    "    return x.get('actors')[0]\n",
    "\n",
    "get_actor()"
   ]
  },
  {
   "cell_type": "code",
   "execution_count": 12,
   "id": "e225c8a3",
   "metadata": {},
   "outputs": [],
   "source": [
    "def get_movies(movies_path, mapping_path):\n",
    "    movies = get_raw_movies(movies_path)\n",
    "    track = get_mapping(mapping_path)\n",
    "\n",
    "    for i in movies:\n",
    "        i['title'] = track[i['title']]\n",
    "        directors = []\n",
    "        for x in i['directors']:\n",
    "            directors.append(track[x])\n",
    "            i['directors'] = directors\n",
    "        \n",
    "        actors = []\n",
    "        for x in i['actors']:\n",
    "            actors.append(track[x])\n",
    "            i['actors'] = actors\n",
    "                     \n",
    "    return movies"
   ]
  },
  {
   "cell_type": "code",
   "execution_count": 13,
   "id": "57b3da5d",
   "metadata": {},
   "outputs": [
    {
     "data": {
      "text/plain": [
       "[{'title': 'Ford v Ferrari',\n",
       "  'year': 2019,\n",
       "  'genres': ['Action', 'Biography', 'Drama'],\n",
       "  'duration': 152,\n",
       "  'directors': ['James Mangold'],\n",
       "  'actors': ['Matt Damon', 'Christian Bale', 'Jon Bernthal'],\n",
       "  'rating': 8.1},\n",
       " {'title': 'Gone Girl',\n",
       "  'year': 2014,\n",
       "  'genres': ['Drama', 'Mystery', 'Thriller'],\n",
       "  'duration': 149,\n",
       "  'directors': ['David Fincher'],\n",
       "  'actors': ['Ben Affleck', 'Rosamund Pike'],\n",
       "  'rating': 8.1}]"
      ]
     },
     "execution_count": 13,
     "metadata": {},
     "output_type": "execute_result"
    }
   ],
   "source": [
    "#Q8:\n",
    "small_data = get_movies(\"small_movies.csv\", \"small_mapping.csv\")\n",
    "small_data"
   ]
  },
  {
   "cell_type": "code",
   "execution_count": 14,
   "id": "d905a5b4",
   "metadata": {},
   "outputs": [
    {
     "data": {
      "text/plain": [
       "'Gone Girl'"
      ]
     },
     "execution_count": 14,
     "metadata": {},
     "output_type": "execute_result"
    }
   ],
   "source": [
    "#Q9:\n",
    "small_data[1][\"title\"]"
   ]
  },
  {
   "cell_type": "code",
   "execution_count": 15,
   "id": "d0e92f72",
   "metadata": {},
   "outputs": [
    {
     "data": {
      "text/plain": [
       "['Matt Damon', 'Christian Bale', 'Jon Bernthal']"
      ]
     },
     "execution_count": 15,
     "metadata": {},
     "output_type": "execute_result"
    }
   ],
   "source": [
    "#Q10:\n",
    "small_data[0][\"actors\"]"
   ]
  },
  {
   "cell_type": "code",
   "execution_count": 16,
   "id": "c32bdac1",
   "metadata": {},
   "outputs": [
    {
     "data": {
      "text/plain": [
       "['David Fincher']"
      ]
     },
     "execution_count": 16,
     "metadata": {},
     "output_type": "execute_result"
    }
   ],
   "source": [
    "#Q11:\n",
    "small_data[-1][\"directors\"]"
   ]
  },
  {
   "cell_type": "code",
   "execution_count": 17,
   "id": "d47416f8",
   "metadata": {},
   "outputs": [],
   "source": [
    "movies = get_movies(\"movies.csv\", \"mapping.csv\")"
   ]
  },
  {
   "cell_type": "code",
   "execution_count": 18,
   "id": "08f5b709",
   "metadata": {},
   "outputs": [
    {
     "data": {
      "text/plain": [
       "[{'title': 'Ambassador Bill',\n",
       "  'year': 1931,\n",
       "  'genres': ['Comedy'],\n",
       "  'duration': 70,\n",
       "  'directors': ['Sam Taylor'],\n",
       "  'actors': ['Will Rogers',\n",
       "   'Marguerite Churchill',\n",
       "   'Greta Nissen',\n",
       "   'Tad Alexander'],\n",
       "  'rating': 6.2},\n",
       " {'title': 'The Etruscan Smile',\n",
       "  'year': 2018,\n",
       "  'genres': ['Drama'],\n",
       "  'duration': 107,\n",
       "  'directors': ['Oded Binnun', 'Mihal Brezis'],\n",
       "  'actors': ['Brian Cox', 'JJ Feild', 'Thora Birch', 'Rosanna Arquette'],\n",
       "  'rating': 6.8},\n",
       " {'title': 'In Old Oklahoma',\n",
       "  'year': 1943,\n",
       "  'genres': ['Romance', 'Western'],\n",
       "  'duration': 102,\n",
       "  'directors': ['Albert S. Rogell'],\n",
       "  'actors': ['John Wayne',\n",
       "   'Martha Scott',\n",
       "   'Albert Dekker',\n",
       "   \"George 'Gabby' Hayes\",\n",
       "   'Marjorie Rambeau'],\n",
       "  'rating': 6.5}]"
      ]
     },
     "execution_count": 18,
     "metadata": {},
     "output_type": "execute_result"
    }
   ],
   "source": [
    "#Q12:\n",
    "movies[2017:2020]"
   ]
  },
  {
   "cell_type": "code",
   "execution_count": 19,
   "id": "3485509b",
   "metadata": {},
   "outputs": [
    {
     "data": {
      "text/plain": [
       "[{'title': 'Battle Bots',\n",
       "  'year': 2018,\n",
       "  'genres': ['Action', 'Adventure', 'Sci-Fi'],\n",
       "  'duration': 67,\n",
       "  'directors': ['Mark Polonia'],\n",
       "  'actors': ['Danielle Donahue', 'Jeff Kirkendall', 'Marie DeLorenzo'],\n",
       "  'rating': 1.9},\n",
       " {'title': 'Inescapable',\n",
       "  'year': 2003,\n",
       "  'genres': ['Drama'],\n",
       "  'duration': 82,\n",
       "  'directors': ['Helen Lesnick'],\n",
       "  'actors': ['Natalie Anderson', 'Tanna Frederick', 'Athena Demos'],\n",
       "  'rating': 4.2}]"
      ]
     },
     "execution_count": 19,
     "metadata": {},
     "output_type": "execute_result"
    }
   ],
   "source": [
    "#Q13:\n",
    "def last_get():\n",
    "    return [movies[-2],movies[-1]]\n",
    "\n",
    "last_get()"
   ]
  },
  {
   "cell_type": "code",
   "execution_count": 20,
   "id": "5245ebb8",
   "metadata": {},
   "outputs": [],
   "source": [
    "# You are *not* allowed to change this function\n",
    "\n",
    "def search_bar(movies, keyword):\n",
    "    '''given a list of movie dictionaries and a keyword, \n",
    "    returns a list of movies that contains the keyword'''\n",
    "    idx = 0\n",
    "    while idx < len(movies):\n",
    "        movie = movies[idx]\n",
    "        if (keyword not in movie['title']) and (keyword not in movie[\"genres\"]) and  (keyword not in movie[\"directors\"]) and (keyword not in movie[\"actors\"]):\n",
    "            movies.pop(idx)\n",
    "        else:\n",
    "            idx += 1\n",
    "    return movies\n",
    "\n",
    "def genre_search_bar(movies):\n",
    "    '''given a list of movie dictionaries, \n",
    "    returns a dict in which the key is the genre and \n",
    "    the value is a list of all movies that contain that genre'''\n",
    "    #TODO: initialize a dictionary\n",
    "    empty_dict = {}\n",
    "    #TODO: loop through all movies\n",
    "    for x in movies:\n",
    "        movie = x\n",
    "    #TODO: loop through all genres in this movie\n",
    "        i = x['genres']\n",
    "        \n",
    "        for x in i:\n",
    "    #TODO: if this genre is not a key in our dictionary, set the value associted with this genre to an empty list\n",
    "            if x not in empty_dict:\n",
    "                empty_dict[x] = []\n",
    "            else:\n",
    "                empty_dict[x].append(movie)  \n",
    "    return empty_dict\n",
    "    #TODO: if we already have this genre in our dictionary, append the movie to the list associated with this genre"
   ]
  },
  {
   "cell_type": "code",
   "execution_count": 21,
   "id": "491b7b64",
   "metadata": {},
   "outputs": [
    {
     "data": {
      "text/plain": [
       "[{'title': 'Harry Potter and the Deathly Hallows: Part 1',\n",
       "  'year': 2010,\n",
       "  'genres': ['Adventure', 'Family', 'Fantasy'],\n",
       "  'duration': 146,\n",
       "  'directors': ['David Yates'],\n",
       "  'actors': ['Bill Nighy', 'Emma Watson', 'Richard Griffiths'],\n",
       "  'rating': 7.7},\n",
       " {'title': 'Harry Potter and the Chamber of Secrets',\n",
       "  'year': 2002,\n",
       "  'genres': ['Adventure', 'Family', 'Fantasy'],\n",
       "  'duration': 161,\n",
       "  'directors': ['Chris Columbus'],\n",
       "  'actors': ['Daniel Radcliffe', 'Rupert Grint', 'Emma Watson'],\n",
       "  'rating': 7.4},\n",
       " {'title': 'Harry Potter and the Deathly Hallows: Part 2',\n",
       "  'year': 2011,\n",
       "  'genres': ['Adventure', 'Drama', 'Fantasy'],\n",
       "  'duration': 130,\n",
       "  'directors': ['David Yates'],\n",
       "  'actors': ['Ralph Fiennes', 'Michael Gambon'],\n",
       "  'rating': 8.1},\n",
       " {'title': 'Harry Potter and the Half-Blood Prince',\n",
       "  'year': 2009,\n",
       "  'genres': ['Action', 'Adventure', 'Family'],\n",
       "  'duration': 153,\n",
       "  'directors': ['David Yates'],\n",
       "  'actors': ['Daniel Radcliffe', 'Michael Gambon', 'Dave Legeno'],\n",
       "  'rating': 7.6},\n",
       " {'title': 'Harry Potter and the Prisoner of Azkaban',\n",
       "  'year': 2004,\n",
       "  'genres': ['Adventure', 'Family', 'Fantasy'],\n",
       "  'duration': 142,\n",
       "  'directors': ['Alfonso Cuarón'],\n",
       "  'actors': ['Daniel Radcliffe', 'Richard Griffiths', 'Pam Ferris'],\n",
       "  'rating': 7.9},\n",
       " {'title': 'Harry Potter and the Order of the Phoenix',\n",
       "  'year': 2007,\n",
       "  'genres': ['Action', 'Adventure', 'Family'],\n",
       "  'duration': 138,\n",
       "  'directors': ['David Yates'],\n",
       "  'actors': ['Daniel Radcliffe', 'Harry Melling'],\n",
       "  'rating': 7.5},\n",
       " {'title': 'Harry Potter and the Goblet of Fire',\n",
       "  'year': 2005,\n",
       "  'genres': ['Adventure', 'Family', 'Fantasy'],\n",
       "  'duration': 157,\n",
       "  'directors': ['Mike Newell'],\n",
       "  'actors': ['Eric Sykes',\n",
       "   'Timothy Spall',\n",
       "   'David Tennant',\n",
       "   'Daniel Radcliffe',\n",
       "   'Emma Watson'],\n",
       "  'rating': 7.7},\n",
       " {'title': \"Harry Potter and the Sorcerer's Stone\",\n",
       "  'year': 2001,\n",
       "  'genres': ['Adventure', 'Family', 'Fantasy'],\n",
       "  'duration': 152,\n",
       "  'directors': ['Chris Columbus'],\n",
       "  'actors': ['Richard Harris',\n",
       "   'Maggie Smith',\n",
       "   'Robbie Coltrane',\n",
       "   'Daniel Radcliffe',\n",
       "   'Fiona Shaw'],\n",
       "  'rating': 7.6}]"
      ]
     },
     "execution_count": 21,
     "metadata": {},
     "output_type": "execute_result"
    }
   ],
   "source": [
    "#Q14:\n",
    "movies_copy = copy.deepcopy(movies)\n",
    "search_bar(movies_copy, \"Harry Potter\")"
   ]
  },
  {
   "cell_type": "code",
   "execution_count": 22,
   "id": "ccf650a1",
   "metadata": {},
   "outputs": [
    {
     "data": {
      "text/plain": [
       "['Action',\n",
       " 'Adventure',\n",
       " 'Crime',\n",
       " 'Sci-Fi',\n",
       " 'Drama',\n",
       " 'Thriller',\n",
       " 'Comedy',\n",
       " 'Family',\n",
       " 'Romance',\n",
       " 'Mystery']"
      ]
     },
     "execution_count": 22,
     "metadata": {},
     "output_type": "execute_result"
    }
   ],
   "source": [
    "#Q15:\n",
    "movies_copy1 = copy.deepcopy(movies)\n",
    "final = search_bar(movies_copy1, \"Paul Walker\")\n",
    "final1 = genre_search_bar(final)\n",
    "keys = list(final1.keys())\n",
    "keys"
   ]
  },
  {
   "cell_type": "code",
   "execution_count": null,
   "id": "4b2b4071",
   "metadata": {},
   "outputs": [],
   "source": []
  },
  {
   "cell_type": "code",
   "execution_count": 23,
   "id": "3bcf9e96",
   "metadata": {},
   "outputs": [
    {
     "data": {
      "text/plain": [
       "['Action',\n",
       " 'Horror',\n",
       " 'Sci-Fi',\n",
       " 'Crime',\n",
       " 'Thriller',\n",
       " 'Comedy',\n",
       " 'Drama',\n",
       " 'Romance',\n",
       " 'History',\n",
       " 'Adventure',\n",
       " 'Western',\n",
       " 'Family',\n",
       " 'Fantasy',\n",
       " 'War',\n",
       " 'Sport',\n",
       " 'Biography',\n",
       " 'Mystery',\n",
       " 'Film-Noir',\n",
       " 'Music',\n",
       " 'Animation',\n",
       " 'Musical',\n",
       " 'Reality-TV',\n",
       " 'Documentary',\n",
       " 'News']"
      ]
     },
     "execution_count": 23,
     "metadata": {},
     "output_type": "execute_result"
    }
   ],
   "source": [
    "#Q16:\n",
    "def find_unique(movies, category):\n",
    "    list1 = []\n",
    "    for x in movies:\n",
    "        i = x[category]\n",
    "        for x in i:\n",
    "            if x not in list1:\n",
    "                list1.append(x)\n",
    "    return list1\n",
    "\n",
    "find_unique(movies, \"genres\")"
   ]
  },
  {
   "cell_type": "code",
   "execution_count": 24,
   "id": "25ddcd69",
   "metadata": {},
   "outputs": [
    {
     "data": {
      "text/plain": [
       "5611"
      ]
     },
     "execution_count": 24,
     "metadata": {},
     "output_type": "execute_result"
    }
   ],
   "source": [
    "#Q17:\n",
    "store = genre_search_bar(movies)\n",
    "count = 1\n",
    "for x in store:\n",
    "    if x == 'Action':\n",
    "        for y in store[x]:\n",
    "            count = count + 1\n",
    "count\n",
    "        "
   ]
  },
  {
   "cell_type": "code",
   "execution_count": 25,
   "id": "33f77675",
   "metadata": {},
   "outputs": [
    {
     "data": {
      "text/plain": [
       "5.721581311769985"
      ]
     },
     "execution_count": 25,
     "metadata": {},
     "output_type": "execute_result"
    }
   ],
   "source": [
    "#Q18:\n",
    "\n",
    "track = 0\n",
    "inc = 0\n",
    "for i in movies:\n",
    "    genre = i['genres']\n",
    "    for x in genre:\n",
    "        if x == 'Comedy':\n",
    "            track += i[\"rating\"]\n",
    "            inc += 1\n",
    "\n",
    "total = track/inc\n",
    "total"
   ]
  },
  {
   "cell_type": "code",
   "execution_count": 26,
   "id": "40d20691",
   "metadata": {},
   "outputs": [
    {
     "data": {
      "text/plain": [
       "['Drama',\n",
       " 'Mystery',\n",
       " 'Thriller',\n",
       " 'Action',\n",
       " 'History',\n",
       " 'Adventure',\n",
       " 'Sci-Fi',\n",
       " 'Crime']"
      ]
     },
     "execution_count": 26,
     "metadata": {},
     "output_type": "execute_result"
    }
   ],
   "source": [
    "#Q19:\n",
    "movies_copy1 = copy.deepcopy(movies)\n",
    "final = search_bar(movies_copy1, \"Christopher Nolan\")\n",
    "final1 = genre_search_bar(final)\n",
    "keys = list(final1.keys())\n",
    "keys"
   ]
  },
  {
   "cell_type": "code",
   "execution_count": 27,
   "id": "deee7f9c",
   "metadata": {},
   "outputs": [
    {
     "data": {
      "text/plain": [
       "'Drama'"
      ]
     },
     "execution_count": 27,
     "metadata": {},
     "output_type": "execute_result"
    }
   ],
   "source": [
    "#Q20:\n",
    "\n",
    "def kristen(movies, keys):\n",
    "    count = 0\n",
    "    highest = ''\n",
    "    highest_num = 0\n",
    "    for x in keys:\n",
    "        count = 0\n",
    "        for y in final1[x]:\n",
    "            count = count + 1\n",
    "            \n",
    "\n",
    "            if count > highest_num:\n",
    "                highest_num = count\n",
    "                highest = x\n",
    "\n",
    "    return highest\n",
    "\n",
    "movies_copy1 = copy.deepcopy(movies)\n",
    "final = search_bar(movies_copy1, \"Kristen Stewart\")\n",
    "final1 = genre_search_bar(final)\n",
    "keys = list(final1.keys())\n",
    "\n",
    "kristen(final1, keys)"
   ]
  },
  {
   "cell_type": "code",
   "execution_count": null,
   "id": "91ce0a76",
   "metadata": {},
   "outputs": [],
   "source": []
  }
 ],
 "metadata": {
  "kernelspec": {
   "display_name": "Python 3 (ipykernel)",
   "language": "python",
   "name": "python3"
  },
  "language_info": {
   "codemirror_mode": {
    "name": "ipython",
    "version": 3
   },
   "file_extension": ".py",
   "mimetype": "text/x-python",
   "name": "python",
   "nbconvert_exporter": "python",
   "pygments_lexer": "ipython3",
   "version": "3.9.7"
  }
 },
 "nbformat": 4,
 "nbformat_minor": 5
}
