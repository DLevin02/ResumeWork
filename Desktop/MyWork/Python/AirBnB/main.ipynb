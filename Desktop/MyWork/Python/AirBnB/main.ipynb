{
 "cells": [
  {
   "cell_type": "code",
   "execution_count": 31,
   "id": "76d065eb",
   "metadata": {},
   "outputs": [],
   "source": [
    "# project: p6\n",
    "# submitter: dslevin2\n",
    "# partner: bundt\n",
    "# hours: 7"
   ]
  },
  {
   "cell_type": "code",
   "execution_count": 2,
   "id": "4cef41a9",
   "metadata": {},
   "outputs": [],
   "source": [
    "import csv\n",
    "import math"
   ]
  },
  {
   "cell_type": "code",
   "execution_count": 3,
   "id": "a60f899b",
   "metadata": {},
   "outputs": [],
   "source": [
    "def process_csv(filename):\n",
    "    exampleFile = open(filename, encoding=\"utf-8\")\n",
    "    exampleReader = csv.reader(exampleFile)\n",
    "    exampleData = list(exampleReader)\n",
    "    exampleFile.close()\n",
    "    return exampleData\n",
    "\n",
    "# use process_csv to pull out the header and data rows\n",
    "csv_rows = process_csv(\"airbnb.csv\")\n",
    "csv_header = csv_rows[0]\n",
    "csv_data = csv_rows[1:]"
   ]
  },
  {
   "cell_type": "code",
   "execution_count": 4,
   "id": "10ce1ce3",
   "metadata": {},
   "outputs": [],
   "source": [
    "def cell(row_idx, col_name):\n",
    "    col_idx = csv_header.index(col_name)\n",
    "    val = csv_data[row_idx][col_idx]\n",
    "    if val == \"\":\n",
    "        return None\n",
    "    elif col_name == 'number_of_reviews':\n",
    "        return int(val)\n",
    "    else:\n",
    "        return val"
   ]
  },
  {
   "cell_type": "code",
   "execution_count": 5,
   "id": "2a3b4ef3",
   "metadata": {},
   "outputs": [
    {
     "data": {
      "text/plain": [
       "['Brooklyn', 'Manhattan', 'Queens', 'Staten Island', 'Bronx']"
      ]
     },
     "execution_count": 5,
     "metadata": {},
     "output_type": "execute_result"
    }
   ],
   "source": [
    "#Q1:\n",
    "def neighborhood_group():\n",
    "    neighborhood_groups = []\n",
    "    for i in range(len(csv_rows) - 1):\n",
    "        val = cell(i,'neighborhood_group')\n",
    "        if val not in neighborhood_groups:\n",
    "            neighborhood_groups.append(val)\n",
    "    return neighborhood_groups\n",
    "neighborhood_group()"
   ]
  },
  {
   "cell_type": "code",
   "execution_count": 6,
   "id": "bbb092d2",
   "metadata": {},
   "outputs": [
    {
     "data": {
      "text/plain": [
       "23"
      ]
     },
     "execution_count": 6,
     "metadata": {},
     "output_type": "execute_result"
    }
   ],
   "source": [
    "#Q2:\n",
    "def number_of_reviews():\n",
    "    tracker = 0\n",
    "    for i in range(len(csv_rows) - 1):\n",
    "        val = cell(i,'number_of_reviews')\n",
    "        val = int(val)\n",
    "        tracker = tracker + val\n",
    "        \n",
    "    return math.floor(tracker/(len(csv_rows)-1))\n",
    "        \n",
    "number_of_reviews()"
   ]
  },
  {
   "cell_type": "code",
   "execution_count": 7,
   "id": "560023d6",
   "metadata": {},
   "outputs": [
    {
     "data": {
      "text/plain": [
       "358"
      ]
     },
     "execution_count": 7,
     "metadata": {},
     "output_type": "execute_result"
    }
   ],
   "source": [
    "#Q3:\n",
    "def soho_rooms():\n",
    "    soho_rooms = []\n",
    "    tracker = 0\n",
    "    for i in range(len(csv_rows) - 1):\n",
    "        if cell(i,'neighborhood') == 'SoHo' and cell(i,'room_id') is not None:\n",
    "            tracker = tracker + 1\n",
    "    return tracker\n",
    "soho_rooms()"
   ]
  },
  {
   "cell_type": "code",
   "execution_count": 8,
   "id": "8d7d69e7",
   "metadata": {},
   "outputs": [
    {
     "data": {
      "text/plain": [
       "['The Epic: Right by MSG',\n",
       " 'Lavish 3 bedroom near Penn Station / MSG',\n",
       " 'Stately Midtown Studio w/ Doorman, Gym, near MSG by Blueground',\n",
       " 'Room Near Times Square/Javits/Hells Kitchen/MSG',\n",
       " 'Cheery Midtown 1BR w/ Doorman + Gym, near MSG by Blueground',\n",
       " 'Homey Hudson Yards w/ Gym + Doorman, near MSG by Blueground',\n",
       " 'Private Room With Kitchen Across From MSG',\n",
       " 'Accessible Two Bedded Suite With Kitchen near MSG',\n",
       " 'Two Beds in Private Room near Times Square and MSG',\n",
       " 'Private and Spacious Queen Room Across From MSG',\n",
       " 'Comfy Kips Bay 1BR w/ Gym, Doorman + Sundecks, walk to MSG by Blueground',\n",
       " 'A+ Chelsea Location! MSG, Javits, Penn!',\n",
       " 'Heart of Williamsburg living for 1-5 msg!',\n",
       " '3 Bedroom by MSG + Empire State',\n",
       " 'Next to Times Square/Javits/MSG! Amazing 1BR!']"
      ]
     },
     "execution_count": 8,
     "metadata": {},
     "output_type": "execute_result"
    }
   ],
   "source": [
    "#Q4:\n",
    "def find_room_names(contained):\n",
    "    # TODO: create a list\n",
    "    room_names = []\n",
    "    # TODO: check if the room contains the `contained` parameter (case insensitive)\n",
    "    for i in range(len(csv_rows) - 1):\n",
    "        val = cell(i,'name')\n",
    "        if val is not None:\n",
    "            if contained.lower() in cell(i,'name').lower() and contained.lower() != None:\n",
    "                room_names.append(val)\n",
    "    return room_names\n",
    "\n",
    "    # TODO: add every unmodified room name to the return list\n",
    "    # TODO: return your list of room names\n",
    "find_room_names(\"MSG\")"
   ]
  },
  {
   "cell_type": "code",
   "execution_count": 9,
   "id": "3837a3bf",
   "metadata": {},
   "outputs": [
    {
     "data": {
      "text/plain": [
       "['HUGE LUX 2FLOOR 2 BDRMSOHO LOFTw/HOME CINEMA',\n",
       " 'Cinema Studio on Duplex Apt.',\n",
       " 'Cool apartment in Brooklyn with free cinema & gym',\n",
       " 'Cinema + gym included with room',\n",
       " 'TV-PHOTO-FILM-CINEMA-ART GALLERY-MUSIC STUDIO-LOFT',\n",
       " 'Premium Chelsea 1BR w/ Gym, W/D, Doorman, Sundeck, Cinema, by Blueground',\n",
       " 'Stunning Chelsea 1BR w/ Gym, W/D, Doorman, Sundeck, Cinema, by Blueground',\n",
       " 'Sunny private room featured in film',\n",
       " \"Downtown Filmmaker's Loft by WTC\",\n",
       " 'Film Location',\n",
       " 'Brooklyn townhouse for filming',\n",
       " 'WoodyAllen FilmSet-Like Digs (Apt)',\n",
       " 'WoodyAllen FilmSet-Like Digs (Room)',\n",
       " 'Film / photography location in unique apartment',\n",
       " 'The Otheroom Bar/Event/Filming Space -read details',\n",
       " 'Victorian Film location',\n",
       " 'Modern Townhouse for Photo, Film &  Daytime Events',\n",
       " 'Shoot. Film. Sleep. Unique Loft Space in Brooklyn.',\n",
       " 'Clean music/film themed bedroom',\n",
       " 'Music Recording Mixing Film Photography Art']"
      ]
     },
     "execution_count": 9,
     "metadata": {},
     "output_type": "execute_result"
    }
   ],
   "source": [
    "#Q5:\n",
    "def cinema_film():\n",
    "    room_names = find_room_names('cinema')\n",
    "    for i in range(len(csv_rows) - 1):\n",
    "        val = cell(i,'name')\n",
    "        if val is not None and val not in room_names:\n",
    "            if 'film' in cell(i,'name').lower():\n",
    "                room_names.append(val)\n",
    "    return room_names\n",
    "cinema_film()"
   ]
  },
  {
   "cell_type": "code",
   "execution_count": 10,
   "id": "b8cd1b90",
   "metadata": {},
   "outputs": [
    {
     "data": {
      "text/plain": [
       "['Elisa', 'Elias', 'Leisa']"
      ]
     },
     "execution_count": 10,
     "metadata": {},
     "output_type": "execute_result"
    }
   ],
   "source": [
    "#Q6:\n",
    "def aisle_ana():\n",
    "    host_names = []\n",
    "    for i in range(len(csv_rows) - 1):\n",
    "        val = cell(i,'host_name')\n",
    "        if val is not None and len(val) == 5:\n",
    "            if 'a' in val.lower() and 'i' in val.lower() and 's' in val.lower() and 'l' in val.lower() and 'e' in val.lower():\n",
    "                if val not in host_names:\n",
    "                    host_names.append(val)\n",
    "    return host_names\n",
    "aisle_ana()"
   ]
  },
  {
   "cell_type": "code",
   "execution_count": 11,
   "id": "e8188243",
   "metadata": {},
   "outputs": [
    {
     "data": {
      "text/plain": [
       "['16276632',\n",
       " '18173787',\n",
       " '21550302',\n",
       " '22176831',\n",
       " '22750161',\n",
       " '28826608',\n",
       " '30423106',\n",
       " '31090222',\n",
       " '31249784',\n",
       " '32678719',\n",
       " '32678720']"
      ]
     },
     "execution_count": 11,
     "metadata": {},
     "output_type": "execute_result"
    }
   ],
   "source": [
    "#Q7:\n",
    "def review_per_month():\n",
    "    rooms = []\n",
    "    for i in range(len(csv_rows) - 1):\n",
    "        val = cell(i,'room_id')\n",
    "        store = cell(i, 'reviews_per_month')\n",
    "        if val is not None and store is not None:\n",
    "            store = float(store)\n",
    "            if store > 15:\n",
    "                rooms.append(val)\n",
    "    return rooms\n",
    "review_per_month()"
   ]
  },
  {
   "cell_type": "code",
   "execution_count": 12,
   "id": "e433088f",
   "metadata": {},
   "outputs": [
    {
     "data": {
      "text/plain": [
       "51.96645873811228"
      ]
     },
     "execution_count": 12,
     "metadata": {},
     "output_type": "execute_result"
    }
   ],
   "source": [
    "#Q8:\n",
    "def percentage_rooms():\n",
    "    totals_rooms = []\n",
    "    rooms_type = []\n",
    "    for i in range(len(csv_rows) - 1):\n",
    "        val = cell(i,'room_type')\n",
    "        totals_rooms.append(val)\n",
    "        if(val == \"Entire home/apt\"):\n",
    "            rooms_type.append(val)\n",
    "    return 100 * (len(rooms_type)) / (len(totals_rooms))\n",
    "percentage_rooms()"
   ]
  },
  {
   "cell_type": "code",
   "execution_count": 13,
   "id": "0d2c8721",
   "metadata": {},
   "outputs": [
    {
     "data": {
      "text/plain": [
       "['712136',\n",
       " '738588',\n",
       " '826307',\n",
       " '1598033',\n",
       " '2794725',\n",
       " '8253376',\n",
       " '9045427',\n",
       " '12914239',\n",
       " '15949915',\n",
       " '15988392',\n",
       " '17475711']"
      ]
     },
     "execution_count": 13,
     "metadata": {},
     "output_type": "execute_result"
    }
   ],
   "source": [
    "#Q9:\n",
    "def staten_island():\n",
    "    room_ids = []\n",
    "    for i in range(len(csv_rows) - 1):\n",
    "        val = cell(i,'neighborhood_group')\n",
    "        if(val == 'Staten Island'):\n",
    "            store = cell(i, 'last_review')\n",
    "            room_id = cell(i, 'room_id')\n",
    "            if val is not None and store is not None:\n",
    "                store = store[0:4]\n",
    "                store = int(store)\n",
    "                if store < 2018:\n",
    "                    room_ids.append(room_id)\n",
    "    return room_ids\n",
    "staten_island()"
   ]
  },
  {
   "cell_type": "code",
   "execution_count": 14,
   "id": "62eac462",
   "metadata": {},
   "outputs": [],
   "source": [
    "def availability_per_host_name(host_name, neighborhood_group=None):\n",
    "    # TODO: create a list\n",
    "    rooms = []\n",
    "    rooms_no_dup = []\n",
    "    # TODO: add every availability matching the host_name and neighborhood_group to the list as an int\n",
    "    for i in range(len(csv_rows) - 1):\n",
    "        val1 = cell(i,'host_name')\n",
    "        val2 = cell(i,'neighborhood_group')\n",
    "        val3 = cell(i, 'availability_365')\n",
    "        if(val1 is not None and val3 is not None):\n",
    "            if(val1.lower() == host_name.lower() and val2 == neighborhood_group):\n",
    "                if(val3 not in rooms):\n",
    "                    val3 = int(val3)\n",
    "                    rooms.append(val3)\n",
    "        if(neighborhood_group is None and val1 is not None):\n",
    "             if(val1.lower() == host_name.lower()):\n",
    "                if(val3 not in rooms):\n",
    "                    val3 = int(val3)\n",
    "                    rooms.append(val3)\n",
    "        for i in rooms:\n",
    "            if i not in rooms_no_dup:\n",
    "                rooms_no_dup.append(i)\n",
    "                \n",
    "        rooms_no_dup.sort(reverse = True)\n",
    "                    \n",
    "    return rooms_no_dup\n",
    "    # TODO: return your list of availabilities\n"
   ]
  },
  {
   "cell_type": "code",
   "execution_count": 15,
   "id": "c9fff142",
   "metadata": {},
   "outputs": [
    {
     "data": {
      "text/plain": [
       "[360, 353, 348, 333, 321, 308, 264, 106, 15, 0]"
      ]
     },
     "execution_count": 15,
     "metadata": {},
     "output_type": "execute_result"
    }
   ],
   "source": [
    "#Q10:\n",
    "availability_per_host_name('Stanley', 'Brooklyn')"
   ]
  },
  {
   "cell_type": "code",
   "execution_count": 16,
   "id": "a651de6e",
   "metadata": {},
   "outputs": [
    {
     "data": {
      "text/plain": [
       "253"
      ]
     },
     "execution_count": 16,
     "metadata": {},
     "output_type": "execute_result"
    }
   ],
   "source": [
    "#Q11:\n",
    "def find_difference():\n",
    "    rooms = availability_per_host_name('Helena')\n",
    "    max1 = 0\n",
    "    min1 = 1000\n",
    "    for i in rooms:\n",
    "        if i < min1:\n",
    "            min1 = i\n",
    "        if i > max1:\n",
    "            max1 = i\n",
    "    return max1 - min1\n",
    "find_difference()"
   ]
  },
  {
   "cell_type": "code",
   "execution_count": 17,
   "id": "5fcd99ff",
   "metadata": {},
   "outputs": [],
   "source": [
    "def find_prices_within(lat_min, lat_max, long_min, long_max):\n",
    "    # TODO: create a list\n",
    "    prices = []\n",
    "    # TODO: add every price of rooms that locate in the given area to the list\n",
    "    for i in range(len(csv_rows) - 1):\n",
    "        val1 = cell(i,'latitude')\n",
    "        val2 = cell(i,'longitude')\n",
    "        if(val1 is not None and val2 is not None):\n",
    "            val1 = float(val1)\n",
    "            val2 = float(val2)\n",
    "            if(val1 >= lat_min and val1 <= lat_max and val2 >= long_min and val2 <= long_max):\n",
    "                val3 = cell(i, 'price')\n",
    "                prices.append(val3)\n",
    "    return prices\n",
    "    # TODO: return the filled list of prices"
   ]
  },
  {
   "cell_type": "code",
   "execution_count": 18,
   "id": "85e9c58f",
   "metadata": {},
   "outputs": [
    {
     "data": {
      "text/plain": [
       "169.4356387798248"
      ]
     },
     "execution_count": 18,
     "metadata": {},
     "output_type": "execute_result"
    }
   ],
   "source": [
    "#Q12:\n",
    "def avg_price():\n",
    "    values = find_prices_within(40.50, 40.75, -74.00, -73.95)\n",
    "    tracker = 0\n",
    "    for i in values:\n",
    "        i = int(i)\n",
    "        tracker = tracker + i\n",
    "    return tracker / (len(values))\n",
    "avg_price()"
   ]
  },
  {
   "cell_type": "code",
   "execution_count": 19,
   "id": "22353093",
   "metadata": {},
   "outputs": [
    {
     "data": {
      "text/plain": [
       "10000"
      ]
     },
     "execution_count": 19,
     "metadata": {},
     "output_type": "execute_result"
    }
   ],
   "source": [
    "#Q13:\n",
    "def high_price():\n",
    "    values = find_prices_within(40.75, 41.00, -73.95, -73.85)\n",
    "    max1 = 0\n",
    "    for i in values:\n",
    "        i = int(i)\n",
    "        if i > max1:\n",
    "            max1 = i\n",
    "    return max1\n",
    "high_price()"
   ]
  },
  {
   "cell_type": "code",
   "execution_count": 20,
   "id": "46c99b5c",
   "metadata": {},
   "outputs": [
    {
     "data": {
      "text/plain": [
       "45.27971221694415"
      ]
     },
     "execution_count": 20,
     "metadata": {},
     "output_type": "execute_result"
    }
   ],
   "source": [
    "#Q14:\n",
    "def per_room():\n",
    "    values = find_prices_within(40.50, 41.00, -74.00, -73.85)\n",
    "    counter = 0\n",
    "    for i in values:\n",
    "        i = int(i)\n",
    "        if i < 100:\n",
    "            counter = counter + 1\n",
    "    return 100 * (counter / len(values) )\n",
    "        \n",
    "per_room()"
   ]
  },
  {
   "cell_type": "code",
   "execution_count": 21,
   "id": "ce3c19e6",
   "metadata": {},
   "outputs": [
    {
     "data": {
      "text/plain": [
       "0.27323293295076073"
      ]
     },
     "execution_count": 21,
     "metadata": {},
     "output_type": "execute_result"
    }
   ],
   "source": [
    "#Q15:\n",
    "def average_ratio():\n",
    "    tracker = 0\n",
    "    average = 0\n",
    "    counter = 0\n",
    "    for i in range(len(csv_rows) - 1):\n",
    "        val1 = cell(i,'neighborhood')\n",
    "        val2 = cell(i,'number_of_reviews')\n",
    "        val3 = cell(i, 'availability_365')\n",
    "        val2 = int(val2)\n",
    "        val3 = int(val3)\n",
    "        if(val1 == 'Manhattan Beach' and val3 != 0):\n",
    "            tracker = tracker + (val2/val3)\n",
    "            counter = counter + 1\n",
    "    return tracker/counter\n",
    "average_ratio()"
   ]
  },
  {
   "cell_type": "code",
   "execution_count": 22,
   "id": "bc044f55",
   "metadata": {},
   "outputs": [
    {
     "data": {
      "text/plain": [
       "0.04373233413721522"
      ]
     },
     "execution_count": 22,
     "metadata": {},
     "output_type": "execute_result"
    }
   ],
   "source": [
    "#Q16:\n",
    "def average_ratio(neighbor):\n",
    "    tracker = 0\n",
    "    average = 0\n",
    "    counter = 0\n",
    "    for i in range(len(csv_rows) - 1):\n",
    "        val1 = cell(i,'neighborhood')\n",
    "        val2 = cell(i,'number_of_reviews')\n",
    "        val3 = cell(i, 'availability_365')\n",
    "        val2 = int(val2)\n",
    "        val3 = int(val3)\n",
    "        if(val1 == neighbor and val3 != 0):\n",
    "            tracker = tracker + (val2/val3)\n",
    "            counter = counter + 1\n",
    "    return tracker/counter\n",
    "average_ratio('Riverdale')"
   ]
  },
  {
   "cell_type": "code",
   "execution_count": 24,
   "id": "02c07a9f",
   "metadata": {},
   "outputs": [
    {
     "data": {
      "text/plain": [
       "'Fresh Meadows'"
      ]
     },
     "execution_count": 24,
     "metadata": {},
     "output_type": "execute_result"
    }
   ],
   "source": [
    "#Q17\n",
    "def highest_ratio(group):\n",
    "    ratio = []\n",
    "    neighbor = []\n",
    "    highest = 0\n",
    "    highest_ratio = ''\n",
    "    for i in range (len(csv_rows) - 1):\n",
    "        if cell(i, \"neighborhood_group\") == group:\n",
    "            neighbors = cell(i, \"neighborhood\")\n",
    "            if neighbors not in neighbor:\n",
    "                neighbor.append(neighbors)\n",
    "    for i in range(len(neighbor)):\n",
    "        if average_ratio(neighbor[i]) > highest:\n",
    "            highest = average_ratio(neighbor[i])\n",
    "            highest_ratio = neighbor[i]\n",
    "    return highest_ratio\n",
    "highest_ratio(\"Queens\")"
   ]
  },
  {
   "cell_type": "code",
   "execution_count": 25,
   "id": "b25d9f11",
   "metadata": {},
   "outputs": [],
   "source": [
    "def secondary_word_in_found_rooms(find_room_word, secondary_word):\n",
    "    counter = 0\n",
    "    tracker = 0\n",
    "    list_names = find_room_names(find_room_word)\n",
    "    for x in list_names:\n",
    "        counter = counter + 1\n",
    "        if(secondary_word.lower() in x.lower()):\n",
    "            tracker = tracker + 1\n",
    "    return 100 * (tracker/counter)"
   ]
  },
  {
   "cell_type": "code",
   "execution_count": 26,
   "id": "971ad96f",
   "metadata": {},
   "outputs": [
    {
     "data": {
      "text/plain": [
       "3.9522598317354727"
      ]
     },
     "execution_count": 26,
     "metadata": {},
     "output_type": "execute_result"
    }
   ],
   "source": [
    "#Q18\n",
    "secondary_word_in_found_rooms('cozy', 'home')"
   ]
  },
  {
   "cell_type": "code",
   "execution_count": 27,
   "id": "cfc7a37a",
   "metadata": {},
   "outputs": [
    {
     "data": {
      "text/plain": [
       "48.92086330935252"
      ]
     },
     "execution_count": 27,
     "metadata": {},
     "output_type": "execute_result"
    }
   ],
   "source": [
    "#Q19\n",
    "secondary_word_in_found_rooms('pool', 'gym')"
   ]
  },
  {
   "cell_type": "code",
   "execution_count": 28,
   "id": "c56727bb",
   "metadata": {},
   "outputs": [],
   "source": [
    "def min_money(group, days):\n",
    "    low_price = 100000000\n",
    "    for i in range(len(csv_rows) - 1):\n",
    "        neighborhood_group = cell(i, 'neighborhood_group')\n",
    "        if(neighborhood_group.lower() == group.lower()):\n",
    "            aval = cell(i, 'availability_365')\n",
    "            min_nights = cell(i, 'minimum_nights')\n",
    "            if(aval is not None and min_nights is not None):\n",
    "                aval = int(aval)\n",
    "                min_nights = int(min_nights)\n",
    "                if(aval >= days and min_nights <= days):\n",
    "                    price = cell(i, 'price')\n",
    "                    price = int(price)\n",
    "                    if price < low_price:\n",
    "                        low_price = price\n",
    "    return low_price"
   ]
  },
  {
   "cell_type": "code",
   "execution_count": 29,
   "id": "409f756f",
   "metadata": {},
   "outputs": [
    {
     "data": {
      "text/plain": [
       "175"
      ]
     },
     "execution_count": 29,
     "metadata": {},
     "output_type": "execute_result"
    }
   ],
   "source": [
    "#Q20\n",
    "def compute_min():\n",
    "    return (min_money(\"Manhattan\", 10)*10) + (min_money(\"Staten Island\", 5) *5)\n",
    "compute_min()"
   ]
  },
  {
   "cell_type": "code",
   "execution_count": null,
   "id": "e3c7bd8b",
   "metadata": {},
   "outputs": [],
   "source": []
  }
 ],
 "metadata": {
  "kernelspec": {
   "display_name": "Python 3 (ipykernel)",
   "language": "python",
   "name": "python3"
  },
  "language_info": {
   "codemirror_mode": {
    "name": "ipython",
    "version": 3
   },
   "file_extension": ".py",
   "mimetype": "text/x-python",
   "name": "python",
   "nbconvert_exporter": "python",
   "pygments_lexer": "ipython3",
   "version": "3.9.7"
  }
 },
 "nbformat": 4,
 "nbformat_minor": 5
}
